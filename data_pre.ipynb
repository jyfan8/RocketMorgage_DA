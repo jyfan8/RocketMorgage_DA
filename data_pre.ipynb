{
  "metadata": {
    "kernelspec": {
      "name": "python",
      "display_name": "Python (Pyodide)",
      "language": "python"
    },
    "language_info": {
      "codemirror_mode": {
        "name": "python",
        "version": 3
      },
      "file_extension": ".py",
      "mimetype": "text/x-python",
      "name": "python",
      "nbconvert_exporter": "python",
      "pygments_lexer": "ipython3",
      "version": "3.8"
    }
  },
  "nbformat_minor": 4,
  "nbformat": 4,
  "cells": [
    {
      "cell_type": "code",
      "source": "%pip install seaborn",
      "metadata": {
        "trusted": true
      },
      "outputs": [],
      "execution_count": 5
    },
    {
      "cell_type": "code",
      "source": "import pandas as pd\nimport numpy as np\nimport matplotlib.pyplot as plt\nimport seaborn as sns\nplt.style.use('ggplot')",
      "metadata": {
        "trusted": true
      },
      "outputs": [
        {
          "ename": "<class 'ModuleNotFoundError'>",
          "evalue": "No module named 'seaborn'",
          "traceback": [
            "\u001b[0;31m---------------------------------------------------------------------------\u001b[0m",
            "\u001b[0;31mModuleNotFoundError\u001b[0m                       Traceback (most recent call last)",
            "Cell \u001b[0;32mIn[1], line 4\u001b[0m\n\u001b[1;32m      2\u001b[0m \u001b[38;5;28;01mimport\u001b[39;00m \u001b[38;5;21;01mnumpy\u001b[39;00m \u001b[38;5;28;01mas\u001b[39;00m \u001b[38;5;21;01mnp\u001b[39;00m\n\u001b[1;32m      3\u001b[0m \u001b[38;5;28;01mimport\u001b[39;00m \u001b[38;5;21;01mmatplotlib\u001b[39;00m\u001b[38;5;21;01m.\u001b[39;00m\u001b[38;5;21;01mpyplot\u001b[39;00m \u001b[38;5;28;01mas\u001b[39;00m \u001b[38;5;21;01mplt\u001b[39;00m\n\u001b[0;32m----> 4\u001b[0m \u001b[38;5;28;01mimport\u001b[39;00m \u001b[38;5;21;01mseaborn\u001b[39;00m \u001b[38;5;28;01mas\u001b[39;00m \u001b[38;5;21;01msns\u001b[39;00m\n\u001b[1;32m      5\u001b[0m plt\u001b[38;5;241m.\u001b[39mstyle\u001b[38;5;241m.\u001b[39muse(\u001b[38;5;124m'\u001b[39m\u001b[38;5;124mggplot\u001b[39m\u001b[38;5;124m'\u001b[39m)\n",
            "\u001b[0;31mModuleNotFoundError\u001b[0m: No module named 'seaborn'"
          ],
          "output_type": "error"
        }
      ],
      "execution_count": 1
    },
    {
      "cell_type": "markdown",
      "source": "### Assets",
      "metadata": {}
    },
    {
      "cell_type": "code",
      "source": "df_assets = pd.read_csv('Assets.csv')",
      "metadata": {
        "trusted": true
      },
      "outputs": [],
      "execution_count": 7
    },
    {
      "cell_type": "code",
      "source": "df_assets.head(3)",
      "metadata": {
        "trusted": true
      },
      "outputs": [
        {
          "execution_count": 8,
          "output_type": "execute_result",
          "data": {
            "text/plain": "                          APPLICATIONID                              ASSET_ID  \\\n0  400ef336-9f32-4b57-bad2-aa0093f58db3  ea916579-bcb2-4aae-a63d-66dbb0c5c2b4   \n1  16d4a079-dfd8-48a8-90f7-f89e288bc601  296d61db-366b-402e-8dc9-1bd0766f40ea   \n2  b936c281-64ab-45ab-b9e8-df19895a4bc8  30a5770d-ff0c-48ea-b0fd-efbfa6f167d5   \n\n         TYPE     VALUE  \n0  investment    9000.0  \n1     vehicle   60000.0  \n2        rrsp  243000.0  ",
            "text/html": "<div>\n<style scoped>\n    .dataframe tbody tr th:only-of-type {\n        vertical-align: middle;\n    }\n\n    .dataframe tbody tr th {\n        vertical-align: top;\n    }\n\n    .dataframe thead th {\n        text-align: right;\n    }\n</style>\n<table border=\"1\" class=\"dataframe\">\n  <thead>\n    <tr style=\"text-align: right;\">\n      <th></th>\n      <th>APPLICATIONID</th>\n      <th>ASSET_ID</th>\n      <th>TYPE</th>\n      <th>VALUE</th>\n    </tr>\n  </thead>\n  <tbody>\n    <tr>\n      <th>0</th>\n      <td>400ef336-9f32-4b57-bad2-aa0093f58db3</td>\n      <td>ea916579-bcb2-4aae-a63d-66dbb0c5c2b4</td>\n      <td>investment</td>\n      <td>9000.0</td>\n    </tr>\n    <tr>\n      <th>1</th>\n      <td>16d4a079-dfd8-48a8-90f7-f89e288bc601</td>\n      <td>296d61db-366b-402e-8dc9-1bd0766f40ea</td>\n      <td>vehicle</td>\n      <td>60000.0</td>\n    </tr>\n    <tr>\n      <th>2</th>\n      <td>b936c281-64ab-45ab-b9e8-df19895a4bc8</td>\n      <td>30a5770d-ff0c-48ea-b0fd-efbfa6f167d5</td>\n      <td>rrsp</td>\n      <td>243000.0</td>\n    </tr>\n  </tbody>\n</table>\n</div>"
          },
          "metadata": {}
        }
      ],
      "execution_count": 8
    },
    {
      "cell_type": "code",
      "source": "# drop the column ASSET_ID\t",
      "metadata": {
        "trusted": true
      },
      "outputs": [],
      "execution_count": null
    },
    {
      "cell_type": "code",
      "source": "df_assets.columns",
      "metadata": {
        "trusted": true
      },
      "outputs": [
        {
          "execution_count": 10,
          "output_type": "execute_result",
          "data": {
            "text/plain": "Index(['APPLICATIONID', 'ASSET_ID', 'TYPE', 'VALUE'], dtype='object')"
          },
          "metadata": {}
        }
      ],
      "execution_count": 10
    },
    {
      "cell_type": "code",
      "source": "df_assets.shape",
      "metadata": {
        "trusted": true
      },
      "outputs": [
        {
          "execution_count": 12,
          "output_type": "execute_result",
          "data": {
            "text/plain": "(60702, 4)"
          },
          "metadata": {}
        }
      ],
      "execution_count": 12
    },
    {
      "cell_type": "code",
      "source": "df_assets.isnull().sum()",
      "metadata": {
        "trusted": true
      },
      "outputs": [
        {
          "execution_count": 19,
          "output_type": "execute_result",
          "data": {
            "text/plain": "APPLICATIONID    0\nASSET_ID         0\nTYPE             0\nVALUE            0\ndtype: int64"
          },
          "metadata": {}
        }
      ],
      "execution_count": 19
    },
    {
      "cell_type": "code",
      "source": "# check if the rows has dupliactes\ndf_assets.duplicated().sum()",
      "metadata": {
        "trusted": true
      },
      "outputs": [
        {
          "execution_count": 15,
          "output_type": "execute_result",
          "data": {
            "text/plain": "0"
          },
          "metadata": {}
        }
      ],
      "execution_count": 15
    },
    {
      "cell_type": "code",
      "source": "df_assets['TYPE'].value_counts()",
      "metadata": {
        "trusted": true
      },
      "outputs": [
        {
          "execution_count": 47,
          "output_type": "execute_result",
          "data": {
            "text/plain": "vehicle          14959\ncash_checking    12725\ncash_savings      9324\nrrsp              9322\ninvestment        7900\nother             4806\ngift              1666\nName: TYPE, dtype: int64"
          },
          "metadata": {}
        }
      ],
      "execution_count": 47
    },
    {
      "cell_type": "code",
      "source": "df_assets.groupby('TYPE')['VALUE'].mean()",
      "metadata": {
        "trusted": true
      },
      "outputs": [
        {
          "execution_count": 49,
          "output_type": "execute_result",
          "data": {
            "text/plain": "TYPE\ncash_checking     30139.917420\ncash_savings      53174.378991\ngift              74969.527275\ninvestment       120330.656630\nother            135348.674305\nrrsp              81215.291428\nvehicle           23143.925275\nName: VALUE, dtype: float64"
          },
          "metadata": {}
        }
      ],
      "execution_count": 49
    },
    {
      "cell_type": "markdown",
      "source": "### Borrowers",
      "metadata": {}
    },
    {
      "cell_type": "code",
      "source": "df_bor = pd.read_csv('Borrowers.csv')",
      "metadata": {
        "trusted": true
      },
      "outputs": [],
      "execution_count": 11
    },
    {
      "cell_type": "code",
      "source": "df_bor.head(3)",
      "metadata": {
        "trusted": true
      },
      "outputs": [
        {
          "execution_count": 12,
          "output_type": "execute_result",
          "data": {
            "text/plain": "                          APPLICATIONID  DEPENDENTS FIRSTTIME  \\\n0  7fd3c8b1-bfe2-4ee5-9e45-1b3512e81e4b         NaN       NaN   \n1  94ae848b-cafb-4464-b545-1957b0c2f713         0.0       NaN   \n2  e6c15716-f72c-4dcf-a095-30e3da06d3a0         0.0       NaN   \n\n                            BORROWER_ID INCLUDERENTALAMOUNTMONTHLYTDS  \\\n0  4050056a-2897-4587-8e90-7dd4cb49cec6                           NaN   \n1  a992d0ef-6099-4bb1-bf9d-bc6037e7138c                           NaN   \n2  1bc0442b-d7e9-4c71-8126-c9734b187f9b                           NaN   \n\n   ISHIDDEN  ISMAINBORROWER  MARITAL RELATIONSHIPTOMAINBORROWER  \\\n0     False            True      NaN                        NaN   \n1     False            True  widowed                        NaN   \n2     False            True  married                        NaN   \n\n   RENTALAMOUNTMONTHLY  \n0                  NaN  \n1                  NaN  \n2                  NaN  ",
            "text/html": "<div>\n<style scoped>\n    .dataframe tbody tr th:only-of-type {\n        vertical-align: middle;\n    }\n\n    .dataframe tbody tr th {\n        vertical-align: top;\n    }\n\n    .dataframe thead th {\n        text-align: right;\n    }\n</style>\n<table border=\"1\" class=\"dataframe\">\n  <thead>\n    <tr style=\"text-align: right;\">\n      <th></th>\n      <th>APPLICATIONID</th>\n      <th>DEPENDENTS</th>\n      <th>FIRSTTIME</th>\n      <th>BORROWER_ID</th>\n      <th>INCLUDERENTALAMOUNTMONTHLYTDS</th>\n      <th>ISHIDDEN</th>\n      <th>ISMAINBORROWER</th>\n      <th>MARITAL</th>\n      <th>RELATIONSHIPTOMAINBORROWER</th>\n      <th>RENTALAMOUNTMONTHLY</th>\n    </tr>\n  </thead>\n  <tbody>\n    <tr>\n      <th>0</th>\n      <td>7fd3c8b1-bfe2-4ee5-9e45-1b3512e81e4b</td>\n      <td>NaN</td>\n      <td>NaN</td>\n      <td>4050056a-2897-4587-8e90-7dd4cb49cec6</td>\n      <td>NaN</td>\n      <td>False</td>\n      <td>True</td>\n      <td>NaN</td>\n      <td>NaN</td>\n      <td>NaN</td>\n    </tr>\n    <tr>\n      <th>1</th>\n      <td>94ae848b-cafb-4464-b545-1957b0c2f713</td>\n      <td>0.0</td>\n      <td>NaN</td>\n      <td>a992d0ef-6099-4bb1-bf9d-bc6037e7138c</td>\n      <td>NaN</td>\n      <td>False</td>\n      <td>True</td>\n      <td>widowed</td>\n      <td>NaN</td>\n      <td>NaN</td>\n    </tr>\n    <tr>\n      <th>2</th>\n      <td>e6c15716-f72c-4dcf-a095-30e3da06d3a0</td>\n      <td>0.0</td>\n      <td>NaN</td>\n      <td>1bc0442b-d7e9-4c71-8126-c9734b187f9b</td>\n      <td>NaN</td>\n      <td>False</td>\n      <td>True</td>\n      <td>married</td>\n      <td>NaN</td>\n      <td>NaN</td>\n    </tr>\n  </tbody>\n</table>\n</div>"
          },
          "metadata": {}
        }
      ],
      "execution_count": 12
    },
    {
      "cell_type": "code",
      "source": "# drop the column BORROWER_ID",
      "metadata": {
        "trusted": true
      },
      "outputs": [],
      "execution_count": null
    },
    {
      "cell_type": "code",
      "source": "df_bor.columns",
      "metadata": {
        "trusted": true
      },
      "outputs": [
        {
          "execution_count": 13,
          "output_type": "execute_result",
          "data": {
            "text/plain": "Index(['APPLICATIONID', 'DEPENDENTS', 'FIRSTTIME', 'BORROWER_ID',\n       'INCLUDERENTALAMOUNTMONTHLYTDS', 'ISHIDDEN', 'ISMAINBORROWER',\n       'MARITAL', 'RELATIONSHIPTOMAINBORROWER', 'RENTALAMOUNTMONTHLY'],\n      dtype='object')"
          },
          "metadata": {}
        }
      ],
      "execution_count": 13
    },
    {
      "cell_type": "code",
      "source": "# check data size \ndf_bor.shape",
      "metadata": {
        "trusted": true
      },
      "outputs": [
        {
          "execution_count": 13,
          "output_type": "execute_result",
          "data": {
            "text/plain": "(80882, 10)"
          },
          "metadata": {}
        }
      ],
      "execution_count": 13
    },
    {
      "cell_type": "code",
      "source": "# check null value\ndf_bor.isnull().sum()",
      "metadata": {
        "trusted": true
      },
      "outputs": [
        {
          "execution_count": 18,
          "output_type": "execute_result",
          "data": {
            "text/plain": "APPLICATIONID                        0\nDEPENDENTS                       34526\nFIRSTTIME                        54733\nBORROWER_ID                          0\nINCLUDERENTALAMOUNTMONTHLYTDS    78753\nISHIDDEN                             0\nISMAINBORROWER                       0\nMARITAL                          27825\nRELATIONSHIPTOMAINBORROWER       64909\nRENTALAMOUNTMONTHLY              70894\ndtype: int64"
          },
          "metadata": {}
        }
      ],
      "execution_count": 18
    },
    {
      "cell_type": "code",
      "source": "df_bor.duplicated().sum()",
      "metadata": {
        "trusted": true
      },
      "outputs": [
        {
          "execution_count": 20,
          "output_type": "execute_result",
          "data": {
            "text/plain": "0"
          },
          "metadata": {}
        }
      ],
      "execution_count": 20
    },
    {
      "cell_type": "code",
      "source": "# using 0.0 or unknown\ndf_bor['DEPENDENTS'].value_counts()",
      "metadata": {
        "trusted": true
      },
      "outputs": [
        {
          "execution_count": 60,
          "output_type": "execute_result",
          "data": {
            "text/plain": "0.0     25920\n2.0      8666\n1.0      7352\n3.0      3135\n4.0       890\n5.0       253\n6.0        85\n7.0        23\n8.0        15\n10.0       10\n9.0         7\nName: DEPENDENTS, dtype: int64"
          },
          "metadata": {}
        }
      ],
      "execution_count": 60
    },
    {
      "cell_type": "code",
      "source": "# dropna \ndf_bor['FIRSTTIME'].value_counts()",
      "metadata": {
        "trusted": true
      },
      "outputs": [
        {
          "execution_count": 64,
          "output_type": "execute_result",
          "data": {
            "text/plain": "True     15125\nFalse    11024\nName: FIRSTTIME, dtype: int64"
          },
          "metadata": {}
        }
      ],
      "execution_count": 64
    },
    {
      "cell_type": "code",
      "source": "# dropna\ndf_bor['INCLUDERENTALAMOUNTMONTHLYTDS'].value_counts()",
      "metadata": {
        "trusted": true
      },
      "outputs": [
        {
          "execution_count": 67,
          "output_type": "execute_result",
          "data": {
            "text/plain": "False    1777\nTrue      352\nName: INCLUDERENTALAMOUNTMONTHLYTDS, dtype: int64"
          },
          "metadata": {}
        }
      ],
      "execution_count": 67
    },
    {
      "cell_type": "code",
      "source": "# dropna or using marrid(mode)\ndf_bor['MARITAL'].value_counts()",
      "metadata": {
        "trusted": true
      },
      "outputs": [
        {
          "execution_count": 82,
          "output_type": "execute_result",
          "data": {
            "text/plain": "married       33780\nsingle        10251\ncommon_law     5073\ndivorced       1741\nseparated      1450\nwidowed         762\nName: MARITAL, dtype: int64"
          },
          "metadata": {}
        }
      ],
      "execution_count": 82
    },
    {
      "cell_type": "code",
      "source": "# dropna or using the spouse(mode)\ndf_bor['RELATIONSHIPTOMAINBORROWER'].value_counts()",
      "metadata": {
        "trusted": true
      },
      "outputs": [
        {
          "execution_count": 80,
          "output_type": "execute_result",
          "data": {
            "text/plain": "spouse        12020\nfamily         1778\ncommon_law     1666\nother           509\nName: RELATIONSHIPTOMAINBORROWER, dtype: int64"
          },
          "metadata": {}
        }
      ],
      "execution_count": 80
    },
    {
      "cell_type": "code",
      "source": "# using the avg to substitute\ndf_bor['RENTALAMOUNTMONTHLY'].value_counts()",
      "metadata": {
        "trusted": true
      },
      "outputs": [
        {
          "execution_count": 83,
          "output_type": "execute_result",
          "data": {
            "text/plain": "1500.0    502\n1000.0    485\n2000.0    485\n1200.0    479\n1400.0    309\n         ... \n1467.5      1\n667.0       1\n1349.0      1\n1006.0      1\n2401.0      1\nName: RENTALAMOUNTMONTHLY, Length: 921, dtype: int64"
          },
          "metadata": {}
        }
      ],
      "execution_count": 83
    },
    {
      "cell_type": "code",
      "source": "",
      "metadata": {
        "trusted": true
      },
      "outputs": [],
      "execution_count": null
    },
    {
      "cell_type": "code",
      "source": "",
      "metadata": {
        "trusted": true
      },
      "outputs": [],
      "execution_count": null
    },
    {
      "cell_type": "markdown",
      "source": "### CreditReports",
      "metadata": {}
    },
    {
      "cell_type": "code",
      "source": "df_cr = pd.read_csv('CreditReports.csv')",
      "metadata": {
        "trusted": true
      },
      "outputs": [],
      "execution_count": 14
    },
    {
      "cell_type": "code",
      "source": "df_cr.head(3)",
      "metadata": {
        "trusted": true
      },
      "outputs": [
        {
          "execution_count": 15,
          "output_type": "execute_result",
          "data": {
            "text/plain": "                         APPLICATION_ID                            BORROWERID  \\\n0  e6c15716-f72c-4dcf-a095-30e3da06d3a0  1bc0442b-d7e9-4c71-8126-c9734b187f9b   \n1  400ef336-9f32-4b57-bad2-aa0093f58db3  383dc692-8385-405c-9ed6-4b4da41e47e5   \n2  94ae848b-cafb-4464-b545-1957b0c2f713  a992d0ef-6099-4bb1-bf9d-bc6037e7138c   \n\n                          CREATEDAT  CREDITSCORE  \\\n0  2024-02-26T22:03:50.771456+00:00        784.0   \n1  2024-02-26T22:53:26.982797+00:00        756.0   \n2   2024-02-26T22:43:33.85511+00:00        534.0   \n\n                        CREDITREPORT_ID  \n0  094c2b0b-580f-4eb6-99b6-c57f3671cf1f  \n1  2c060e76-842b-42ba-9462-2b2fa09e8268  \n2  53a7e306-4cfd-4e9d-bd0f-ee809a64a104  ",
            "text/html": "<div>\n<style scoped>\n    .dataframe tbody tr th:only-of-type {\n        vertical-align: middle;\n    }\n\n    .dataframe tbody tr th {\n        vertical-align: top;\n    }\n\n    .dataframe thead th {\n        text-align: right;\n    }\n</style>\n<table border=\"1\" class=\"dataframe\">\n  <thead>\n    <tr style=\"text-align: right;\">\n      <th></th>\n      <th>APPLICATION_ID</th>\n      <th>BORROWERID</th>\n      <th>CREATEDAT</th>\n      <th>CREDITSCORE</th>\n      <th>CREDITREPORT_ID</th>\n    </tr>\n  </thead>\n  <tbody>\n    <tr>\n      <th>0</th>\n      <td>e6c15716-f72c-4dcf-a095-30e3da06d3a0</td>\n      <td>1bc0442b-d7e9-4c71-8126-c9734b187f9b</td>\n      <td>2024-02-26T22:03:50.771456+00:00</td>\n      <td>784.0</td>\n      <td>094c2b0b-580f-4eb6-99b6-c57f3671cf1f</td>\n    </tr>\n    <tr>\n      <th>1</th>\n      <td>400ef336-9f32-4b57-bad2-aa0093f58db3</td>\n      <td>383dc692-8385-405c-9ed6-4b4da41e47e5</td>\n      <td>2024-02-26T22:53:26.982797+00:00</td>\n      <td>756.0</td>\n      <td>2c060e76-842b-42ba-9462-2b2fa09e8268</td>\n    </tr>\n    <tr>\n      <th>2</th>\n      <td>94ae848b-cafb-4464-b545-1957b0c2f713</td>\n      <td>a992d0ef-6099-4bb1-bf9d-bc6037e7138c</td>\n      <td>2024-02-26T22:43:33.85511+00:00</td>\n      <td>534.0</td>\n      <td>53a7e306-4cfd-4e9d-bd0f-ee809a64a104</td>\n    </tr>\n  </tbody>\n</table>\n</div>"
          },
          "metadata": {}
        }
      ],
      "execution_count": 15
    },
    {
      "cell_type": "code",
      "source": "# drop BORROWERID and CREDITREPORT_ID, make the CREATEDAT to date time",
      "metadata": {
        "trusted": true
      },
      "outputs": [],
      "execution_count": null
    },
    {
      "cell_type": "code",
      "source": "df_cr.columns",
      "metadata": {
        "trusted": true
      },
      "outputs": [
        {
          "execution_count": 16,
          "output_type": "execute_result",
          "data": {
            "text/plain": "Index(['APPLICATION_ID', 'BORROWERID', 'CREATEDAT', 'CREDITSCORE',\n       'CREDITREPORT_ID'],\n      dtype='object')"
          },
          "metadata": {}
        }
      ],
      "execution_count": 16
    },
    {
      "cell_type": "code",
      "source": "df_cr.shape",
      "metadata": {
        "trusted": true
      },
      "outputs": [
        {
          "execution_count": 44,
          "output_type": "execute_result",
          "data": {
            "text/plain": "(60348, 5)"
          },
          "metadata": {}
        }
      ],
      "execution_count": 44
    },
    {
      "cell_type": "code",
      "source": "df_cr.isnull().sum()",
      "metadata": {
        "trusted": true
      },
      "outputs": [
        {
          "execution_count": 25,
          "output_type": "execute_result",
          "data": {
            "text/plain": "APPLICATION_ID        0\nBORROWERID            0\nCREATEDAT             0\nCREDITSCORE        7341\nCREDITREPORT_ID       0\ndtype: int64"
          },
          "metadata": {}
        }
      ],
      "execution_count": 25
    },
    {
      "cell_type": "code",
      "source": "df_cr.duplicated().sum()",
      "metadata": {
        "trusted": true
      },
      "outputs": [
        {
          "execution_count": 26,
          "output_type": "execute_result",
          "data": {
            "text/plain": "0"
          },
          "metadata": {}
        }
      ],
      "execution_count": 26
    },
    {
      "cell_type": "code",
      "source": "# dropna or sing the mean to substitute CREDITSCORE\ndf_cr['CREDITSCORE'].dtype,\\\ndf_cr['CREDITSCORE'].mean()",
      "metadata": {
        "trusted": true
      },
      "outputs": [
        {
          "execution_count": 103,
          "output_type": "execute_result",
          "data": {
            "text/plain": "(dtype('float64'), 744.8697719169166)"
          },
          "metadata": {}
        }
      ],
      "execution_count": 103
    },
    {
      "cell_type": "code",
      "source": "",
      "metadata": {
        "trusted": true
      },
      "outputs": [],
      "execution_count": null
    },
    {
      "cell_type": "code",
      "source": "",
      "metadata": {
        "trusted": true
      },
      "outputs": [],
      "execution_count": null
    },
    {
      "cell_type": "code",
      "source": "",
      "metadata": {
        "trusted": true
      },
      "outputs": [],
      "execution_count": null
    },
    {
      "cell_type": "markdown",
      "source": "### Incomes",
      "metadata": {}
    },
    {
      "cell_type": "code",
      "source": "df_incm = pd.read_csv('Incomes.csv')",
      "metadata": {
        "trusted": true
      },
      "outputs": [],
      "execution_count": 17
    },
    {
      "cell_type": "code",
      "source": "df_incm.head(3)",
      "metadata": {
        "trusted": true
      },
      "outputs": [
        {
          "execution_count": 18,
          "output_type": "execute_result",
          "data": {
            "text/plain": "   ACTIVE                         APPLICATIONID BONUSES  \\\n0    True  79e95817-04ec-4a00-b38f-8dccfab870b4   False   \n1   False  b936c281-64ab-45ab-b9e8-df19895a4bc8   False   \n2    True  16d4a079-dfd8-48a8-90f7-f89e288bc601     NaN   \n\n                             BORROWERID BUSINESSTYPE     ENDDATE  \\\n0  9caf8927-3081-4869-be6b-3c8cf2b7353a          NaN         NaN   \n1  1062b4ba-ff77-4209-95f6-cb4fb9832b66          NaN  2024-02-15   \n2  44b426fb-7644-42ad-9bf0-337843b28cf2          NaN         NaN   \n\n                              INCOME_ID    INCOME INCOMEFREQUENCY  \\\n0  66f68715-f9f5-4018-b5fd-aa5987de5035   66560.0        annually   \n1  9f1a400f-2146-4c2b-92a1-40e1a714740c   56500.0        annually   \n2  125ac40f-47b8-41f3-8ea0-de044be1dc7c  166400.0        annually   \n\n   INCOMEPERIODAMOUNT INDUSTRYSECTOR    JOBTYPE    OCCUPATION  \\\n0             66560.0          other  full_time  professional   \n1             56500.0          other  full_time         other   \n2            166400.0         health        NaN  professional   \n\n            PAYTYPE    SOURCE   STARTDATE                            TITLE  \n0  hourly_guaranted  employed  2022-09-01                           Driver  \n1          salaried  employed  2019-01-01  Environmental Services Manager   \n2  hourly_guaranted  employed  2014-08-17                              NaN  ",
            "text/html": "<div>\n<style scoped>\n    .dataframe tbody tr th:only-of-type {\n        vertical-align: middle;\n    }\n\n    .dataframe tbody tr th {\n        vertical-align: top;\n    }\n\n    .dataframe thead th {\n        text-align: right;\n    }\n</style>\n<table border=\"1\" class=\"dataframe\">\n  <thead>\n    <tr style=\"text-align: right;\">\n      <th></th>\n      <th>ACTIVE</th>\n      <th>APPLICATIONID</th>\n      <th>BONUSES</th>\n      <th>BORROWERID</th>\n      <th>BUSINESSTYPE</th>\n      <th>ENDDATE</th>\n      <th>INCOME_ID</th>\n      <th>INCOME</th>\n      <th>INCOMEFREQUENCY</th>\n      <th>INCOMEPERIODAMOUNT</th>\n      <th>INDUSTRYSECTOR</th>\n      <th>JOBTYPE</th>\n      <th>OCCUPATION</th>\n      <th>PAYTYPE</th>\n      <th>SOURCE</th>\n      <th>STARTDATE</th>\n      <th>TITLE</th>\n    </tr>\n  </thead>\n  <tbody>\n    <tr>\n      <th>0</th>\n      <td>True</td>\n      <td>79e95817-04ec-4a00-b38f-8dccfab870b4</td>\n      <td>False</td>\n      <td>9caf8927-3081-4869-be6b-3c8cf2b7353a</td>\n      <td>NaN</td>\n      <td>NaN</td>\n      <td>66f68715-f9f5-4018-b5fd-aa5987de5035</td>\n      <td>66560.0</td>\n      <td>annually</td>\n      <td>66560.0</td>\n      <td>other</td>\n      <td>full_time</td>\n      <td>professional</td>\n      <td>hourly_guaranted</td>\n      <td>employed</td>\n      <td>2022-09-01</td>\n      <td>Driver</td>\n    </tr>\n    <tr>\n      <th>1</th>\n      <td>False</td>\n      <td>b936c281-64ab-45ab-b9e8-df19895a4bc8</td>\n      <td>False</td>\n      <td>1062b4ba-ff77-4209-95f6-cb4fb9832b66</td>\n      <td>NaN</td>\n      <td>2024-02-15</td>\n      <td>9f1a400f-2146-4c2b-92a1-40e1a714740c</td>\n      <td>56500.0</td>\n      <td>annually</td>\n      <td>56500.0</td>\n      <td>other</td>\n      <td>full_time</td>\n      <td>other</td>\n      <td>salaried</td>\n      <td>employed</td>\n      <td>2019-01-01</td>\n      <td>Environmental Services Manager</td>\n    </tr>\n    <tr>\n      <th>2</th>\n      <td>True</td>\n      <td>16d4a079-dfd8-48a8-90f7-f89e288bc601</td>\n      <td>NaN</td>\n      <td>44b426fb-7644-42ad-9bf0-337843b28cf2</td>\n      <td>NaN</td>\n      <td>NaN</td>\n      <td>125ac40f-47b8-41f3-8ea0-de044be1dc7c</td>\n      <td>166400.0</td>\n      <td>annually</td>\n      <td>166400.0</td>\n      <td>health</td>\n      <td>NaN</td>\n      <td>professional</td>\n      <td>hourly_guaranted</td>\n      <td>employed</td>\n      <td>2014-08-17</td>\n      <td>NaN</td>\n    </tr>\n  </tbody>\n</table>\n</div>"
          },
          "metadata": {}
        }
      ],
      "execution_count": 18
    },
    {
      "cell_type": "code",
      "source": "df_incm.shape",
      "metadata": {
        "trusted": true
      },
      "outputs": [
        {
          "execution_count": 42,
          "output_type": "execute_result",
          "data": {
            "text/plain": "(83958, 17)"
          },
          "metadata": {}
        }
      ],
      "execution_count": 42
    },
    {
      "cell_type": "code",
      "source": "df_incm.columns",
      "metadata": {
        "trusted": true
      },
      "outputs": [
        {
          "execution_count": 19,
          "output_type": "execute_result",
          "data": {
            "text/plain": "Index(['ACTIVE', 'APPLICATIONID', 'BONUSES', 'BORROWERID', 'BUSINESSTYPE',\n       'ENDDATE', 'INCOME_ID', 'INCOME', 'INCOMEFREQUENCY',\n       'INCOMEPERIODAMOUNT', 'INDUSTRYSECTOR', 'JOBTYPE', 'OCCUPATION',\n       'PAYTYPE', 'SOURCE', 'STARTDATE', 'TITLE'],\n      dtype='object')"
          },
          "metadata": {}
        }
      ],
      "execution_count": 19
    },
    {
      "cell_type": "code",
      "source": "df_incm.isnull().sum()",
      "metadata": {
        "trusted": true
      },
      "outputs": [
        {
          "execution_count": 30,
          "output_type": "execute_result",
          "data": {
            "text/plain": "ACTIVE                    0\nAPPLICATIONID             0\nBONUSES               42839\nBORROWERID                0\nBUSINESSTYPE          77370\nENDDATE               73490\nINCOME_ID                 0\nINCOME                    0\nINCOMEFREQUENCY           0\nINCOMEPERIODAMOUNT        0\nINDUSTRYSECTOR        41321\nJOBTYPE               28447\nOCCUPATION            46397\nPAYTYPE               29600\nSOURCE                    0\nSTARTDATE                 0\nTITLE                 27932\ndtype: int64"
          },
          "metadata": {}
        }
      ],
      "execution_count": 30
    },
    {
      "cell_type": "code",
      "source": "df_incm.duplicated().sum()",
      "metadata": {
        "trusted": true
      },
      "outputs": [
        {
          "execution_count": 31,
          "output_type": "execute_result",
          "data": {
            "text/plain": "0"
          },
          "metadata": {}
        }
      ],
      "execution_count": 31
    },
    {
      "cell_type": "code",
      "source": "# dropna \ndf_incm['BONUSES'].value_counts()",
      "metadata": {
        "trusted": true
      },
      "outputs": [
        {
          "execution_count": 104,
          "output_type": "execute_result",
          "data": {
            "text/plain": "False    26961\nTrue     14158\nName: BONUSES, dtype: int64"
          },
          "metadata": {}
        }
      ],
      "execution_count": 104
    },
    {
      "cell_type": "code",
      "source": "# using the mode \ndf_incm['BUSINESSTYPE'].value_counts()",
      "metadata": {
        "trusted": true
      },
      "outputs": [
        {
          "execution_count": 105,
          "output_type": "execute_result",
          "data": {
            "text/plain": "sole_proprietor    3367\ncorporation        2961\npertnership         260\nName: BUSINESSTYPE, dtype: int64"
          },
          "metadata": {}
        }
      ],
      "execution_count": 105
    },
    {
      "cell_type": "code",
      "source": "# using the CreditReports table's createddate to fill na, using after the createddate \n'''\ndf['timestamp'] = pd.to_datetime(df['timestamp'])\ndf['timestamp'] = df['timestamp'].interpolate(method='linear', limit_direction='forward')\n'''\ndf_incm['ENDDATE'].value_counts()",
      "metadata": {
        "trusted": true
      },
      "outputs": [
        {
          "execution_count": 106,
          "output_type": "execute_result",
          "data": {
            "text/plain": "2022-01-01    277\n2021-01-01    231\n2020-01-01    158\n2023-01-01    128\n2021-09-01    126\n             ... \n2019-02-11      1\n2007-01-07      1\n2020-11-22      1\n2019-04-26      1\n2023-11-08      1\nName: ENDDATE, Length: 1747, dtype: int64"
          },
          "metadata": {}
        }
      ],
      "execution_count": 106
    },
    {
      "cell_type": "code",
      "source": "# using other to substitute \ndf_incm['INDUSTRYSECTOR'].value_counts()",
      "metadata": {
        "trusted": true
      },
      "outputs": [
        {
          "execution_count": 107,
          "output_type": "execute_result",
          "data": {
            "text/plain": "other                        15273\nservices                      5681\nhealth                        3922\nconstruction                  2915\nhigh_tech                     2876\ngovernment                    2231\neducation                     2138\nbanking_finance               2044\nmanufacturing                 1711\nretail_sales                  1574\ntransportation                1236\nfarming_natural_resources      527\nleisure_entertainment          375\nvaries                         134\nName: INDUSTRYSECTOR, dtype: int64"
          },
          "metadata": {}
        }
      ],
      "execution_count": 107
    },
    {
      "cell_type": "code",
      "source": "# using full time(mode) or drop column\ndf_incm['JOBTYPE'].value_counts()",
      "metadata": {
        "trusted": true
      },
      "outputs": [
        {
          "execution_count": 108,
          "output_type": "execute_result",
          "data": {
            "text/plain": "full_time    50914\npart_time     3905\nseasonal       692\nName: JOBTYPE, dtype: int64"
          },
          "metadata": {}
        }
      ],
      "execution_count": 108
    },
    {
      "cell_type": "code",
      "source": "# using other(mode) or drop column\ndf_incm['OCCUPATION'].value_counts()",
      "metadata": {
        "trusted": true
      },
      "outputs": [
        {
          "execution_count": 109,
          "output_type": "execute_result",
          "data": {
            "text/plain": "other                  13717\nprofessional           13566\nlabour_tradesperson     4401\nmanagement              3903\nclerical                1974\nName: OCCUPATION, dtype: int64"
          },
          "metadata": {}
        }
      ],
      "execution_count": 109
    },
    {
      "cell_type": "code",
      "source": "# using salaried(mode) \ndf_incm['PAYTYPE'].value_counts()",
      "metadata": {
        "trusted": true
      },
      "outputs": [
        {
          "execution_count": 110,
          "output_type": "execute_result",
          "data": {
            "text/plain": "salaried                29587\nhourly_guaranted        20733\nhourly_non_guaranted     3493\ncommission                545\nName: PAYTYPE, dtype: int64"
          },
          "metadata": {}
        }
      ],
      "execution_count": 110
    },
    {
      "cell_type": "code",
      "source": "# drop the column\ndf_incm['TITLE'].value_counts()",
      "metadata": {
        "trusted": true
      },
      "outputs": [
        {
          "execution_count": 111,
          "output_type": "execute_result",
          "data": {
            "text/plain": "Owner                                       999\nTeacher                                     822\nManager                                     572\nProject Manager                             385\nPSW                                         373\n                                           ... \nMedical Technologist                          1\nNon Destructive Engineer                      1\nFirst Nations Support Worker                  1\nCMC Machinist                                 1\nInstumentation and Automation Technician      1\nName: TITLE, Length: 22130, dtype: int64"
          },
          "metadata": {}
        }
      ],
      "execution_count": 111
    },
    {
      "cell_type": "code",
      "source": "",
      "metadata": {
        "trusted": true
      },
      "outputs": [],
      "execution_count": null
    },
    {
      "cell_type": "code",
      "source": "",
      "metadata": {
        "trusted": true
      },
      "outputs": [],
      "execution_count": null
    },
    {
      "cell_type": "markdown",
      "source": "### Liabilities",
      "metadata": {}
    },
    {
      "cell_type": "code",
      "source": "df_lablt = pd.read_csv('Liabilities.csv')\ndf_lablt.head(3)",
      "metadata": {
        "trusted": true
      },
      "outputs": [
        {
          "execution_count": 33,
          "output_type": "execute_result",
          "data": {
            "text/plain": "   CREDITLIMIT  BALANCE  MONTHLYPAYMENT PAYOFFTYPE         TYPE MATURITYDATE  \\\n0       2000.0    147.0            4.41        NaN  credit_card          NaN   \n1       4000.0    525.0           15.75        NaN  credit_card          NaN   \n2          NaN     90.0            0.00        NaN        other          NaN   \n\n   IMPORTEDFROMCREDITBUREAU  ISCREDITBUREAUSOURCE  \\\n0                      True                 False   \n1                      True                 False   \n2                      True                 False   \n\n                           LIABILITY_ID                         APPLICATIONID  \n0  129442c1-8dfc-465f-996e-81dff5b12674  400ef336-9f32-4b57-bad2-aa0093f58db3  \n1  a3ef7ed1-75fb-49e1-90c2-4e106e98f39b  79e95817-04ec-4a00-b38f-8dccfab870b4  \n2  9b0cc2c6-818d-4574-8541-1e7b2bce3680  400ef336-9f32-4b57-bad2-aa0093f58db3  ",
            "text/html": "<div>\n<style scoped>\n    .dataframe tbody tr th:only-of-type {\n        vertical-align: middle;\n    }\n\n    .dataframe tbody tr th {\n        vertical-align: top;\n    }\n\n    .dataframe thead th {\n        text-align: right;\n    }\n</style>\n<table border=\"1\" class=\"dataframe\">\n  <thead>\n    <tr style=\"text-align: right;\">\n      <th></th>\n      <th>CREDITLIMIT</th>\n      <th>BALANCE</th>\n      <th>MONTHLYPAYMENT</th>\n      <th>PAYOFFTYPE</th>\n      <th>TYPE</th>\n      <th>MATURITYDATE</th>\n      <th>IMPORTEDFROMCREDITBUREAU</th>\n      <th>ISCREDITBUREAUSOURCE</th>\n      <th>LIABILITY_ID</th>\n      <th>APPLICATIONID</th>\n    </tr>\n  </thead>\n  <tbody>\n    <tr>\n      <th>0</th>\n      <td>2000.0</td>\n      <td>147.0</td>\n      <td>4.41</td>\n      <td>NaN</td>\n      <td>credit_card</td>\n      <td>NaN</td>\n      <td>True</td>\n      <td>False</td>\n      <td>129442c1-8dfc-465f-996e-81dff5b12674</td>\n      <td>400ef336-9f32-4b57-bad2-aa0093f58db3</td>\n    </tr>\n    <tr>\n      <th>1</th>\n      <td>4000.0</td>\n      <td>525.0</td>\n      <td>15.75</td>\n      <td>NaN</td>\n      <td>credit_card</td>\n      <td>NaN</td>\n      <td>True</td>\n      <td>False</td>\n      <td>a3ef7ed1-75fb-49e1-90c2-4e106e98f39b</td>\n      <td>79e95817-04ec-4a00-b38f-8dccfab870b4</td>\n    </tr>\n    <tr>\n      <th>2</th>\n      <td>NaN</td>\n      <td>90.0</td>\n      <td>0.00</td>\n      <td>NaN</td>\n      <td>other</td>\n      <td>NaN</td>\n      <td>True</td>\n      <td>False</td>\n      <td>9b0cc2c6-818d-4574-8541-1e7b2bce3680</td>\n      <td>400ef336-9f32-4b57-bad2-aa0093f58db3</td>\n    </tr>\n  </tbody>\n</table>\n</div>"
          },
          "metadata": {}
        }
      ],
      "execution_count": 33
    },
    {
      "cell_type": "code",
      "source": "# drop the LIABILITY_ID",
      "metadata": {
        "trusted": true
      },
      "outputs": [],
      "execution_count": null
    },
    {
      "cell_type": "code",
      "source": "df_lablt.shape",
      "metadata": {
        "trusted": true
      },
      "outputs": [
        {
          "execution_count": 113,
          "output_type": "execute_result",
          "data": {
            "text/plain": "(193450, 10)"
          },
          "metadata": {}
        }
      ],
      "execution_count": 113
    },
    {
      "cell_type": "code",
      "source": "df_lablt.isnull().sum()",
      "metadata": {
        "trusted": true
      },
      "outputs": [
        {
          "execution_count": 112,
          "output_type": "execute_result",
          "data": {
            "text/plain": "CREDITLIMIT                  23196\nBALANCE                        686\nMONTHLYPAYMENT                2069\nPAYOFFTYPE                  141468\nTYPE                             0\nMATURITYDATE                193035\nIMPORTEDFROMCREDITBUREAU         0\nISCREDITBUREAUSOURCE             0\nLIABILITY_ID                     0\nAPPLICATIONID                    0\ndtype: int64"
          },
          "metadata": {}
        }
      ],
      "execution_count": 112
    },
    {
      "cell_type": "code",
      "source": "df_lablt.duplicated().sum()",
      "metadata": {
        "trusted": true
      },
      "outputs": [
        {
          "execution_count": 34,
          "output_type": "execute_result",
          "data": {
            "text/plain": "0"
          },
          "metadata": {}
        }
      ],
      "execution_count": 34
    },
    {
      "cell_type": "code",
      "source": "# using mean to substitute\ndf_lablt['CREDITLIMIT'].mean()",
      "metadata": {
        "trusted": true
      },
      "outputs": [
        {
          "execution_count": 115,
          "output_type": "execute_result",
          "data": {
            "text/plain": "42953.5773432636"
          },
          "metadata": {}
        }
      ],
      "execution_count": 115
    },
    {
      "cell_type": "code",
      "source": "# using mean to substitute\ndf_lablt['BALANCE'].mean()",
      "metadata": {
        "trusted": true
      },
      "outputs": [
        {
          "execution_count": 117,
          "output_type": "execute_result",
          "data": {
            "text/plain": "28209.797243053687"
          },
          "metadata": {}
        }
      ],
      "execution_count": 117
    },
    {
      "cell_type": "code",
      "source": "# using mean to substitute\ndf_lablt['MONTHLYPAYMENT'].mean()",
      "metadata": {
        "trusted": true
      },
      "outputs": [
        {
          "execution_count": 118,
          "output_type": "execute_result",
          "data": {
            "text/plain": "346.8583948249826"
          },
          "metadata": {}
        }
      ],
      "execution_count": 118
    },
    {
      "cell_type": "code",
      "source": "# drop the column or using the mode\ndf_lablt['PAYOFFTYPE'].value_counts()",
      "metadata": {
        "trusted": true
      },
      "outputs": [
        {
          "execution_count": 119,
          "output_type": "execute_result",
          "data": {
            "text/plain": "from_proceeds       36556\nprior_to_advance    15426\nName: PAYOFFTYPE, dtype: int64"
          },
          "metadata": {}
        }
      ],
      "execution_count": 119
    },
    {
      "cell_type": "code",
      "source": "# drop the column\ndf_lablt['MATURITYDATE'].value_counts()",
      "metadata": {
        "trusted": true
      },
      "outputs": [
        {
          "execution_count": 121,
          "output_type": "execute_result",
          "data": {
            "text/plain": "2031-01-01    125\n2032-01-01     14\n2025-01-01     10\n2024-01-01      7\n2031-02-01      6\n             ... \n2022-12-01      1\n2019-09-16      1\n2027-09-01      1\n2026-11-01      1\n2024-03-29      1\nName: MATURITYDATE, Length: 186, dtype: int64"
          },
          "metadata": {}
        }
      ],
      "execution_count": 121
    },
    {
      "cell_type": "code",
      "source": "",
      "metadata": {
        "trusted": true
      },
      "outputs": [],
      "execution_count": null
    },
    {
      "cell_type": "code",
      "source": "",
      "metadata": {
        "trusted": true
      },
      "outputs": [],
      "execution_count": null
    },
    {
      "cell_type": "code",
      "source": "",
      "metadata": {
        "trusted": true
      },
      "outputs": [],
      "execution_count": null
    },
    {
      "cell_type": "markdown",
      "source": "### Mortgages",
      "metadata": {}
    },
    {
      "cell_type": "code",
      "source": "df_mrge = pd.read_csv('Mortgages.csv')",
      "metadata": {
        "trusted": true
      },
      "outputs": [],
      "execution_count": 35
    },
    {
      "cell_type": "code",
      "source": "df_mrge.head(3)",
      "metadata": {
        "trusted": true
      },
      "outputs": [
        {
          "execution_count": 36,
          "output_type": "execute_result",
          "data": {
            "text/plain": "                            MORTGAGE_ID                           PROPERTY_ID  \\\n0  6d41cd44-06df-4b02-9169-b1a92dc789db  06deaf2c-2ee9-42bd-91c2-cb9927b04785   \n1  406e111c-14da-4e3c-8d4d-6dee994df37d  97c02c7d-cbee-4a44-b7e8-55c6359dbc8f   \n2  a097f687-f782-41e2-a9e1-47dd0faef1fd  20bf0813-49b6-437b-a4eb-fffde79b8ed9   \n\n                          APPLICATIONID       LENDER  ORIGINALMORTGAGEAMOUNT  \\\n0  59133cd9-58f9-4d19-bd9f-52e95bba3310         RBC                      NaN   \n1  c572fccd-e1ea-4592-9d54-5a1c87e435e4  ATB - HELOC                380000.0   \n2  3de1c9cd-4380-4b81-87cf-dd2df0432988         MCAP                     NaN   \n\n   PAYMENT PAYMENTFREQUENCY  PAYOFF     PAYOFFTYPE  RATE  REMAININGAMOUNT  \\\n0      NaN              NaN    True  from_proceeds   NaN         402000.0   \n1   1637.0          monthly    True  from_proceeds  7.70         220000.0   \n2    900.0      semi-weekly    True  from_proceeds  2.99         325000.0   \n\n      RENEWAL MORTGAGE_TERM MORTGAGE_TYPE FILE_CREATION_TIMESTAMP  \\\n0         NaN           NaN           NaN    2024-02-29T17:49:30Z   \n1         NaN         other      variable    2024-02-29T17:54:19Z   \n2  2024-05-12             5         fixed    2024-02-29T16:51:03Z   \n\n                  REC_CREATED_TS                 REC_UPDATED_TS  \n0  2024-02-29T10:01:24.013-08:00  2024-02-29T10:01:24.013-08:00  \n1  2024-02-29T10:01:24.013-08:00  2024-02-29T10:01:24.013-08:00  \n2  2024-02-29T09:03:40.273-08:00  2024-02-29T09:03:40.273-08:00  ",
            "text/html": "<div>\n<style scoped>\n    .dataframe tbody tr th:only-of-type {\n        vertical-align: middle;\n    }\n\n    .dataframe tbody tr th {\n        vertical-align: top;\n    }\n\n    .dataframe thead th {\n        text-align: right;\n    }\n</style>\n<table border=\"1\" class=\"dataframe\">\n  <thead>\n    <tr style=\"text-align: right;\">\n      <th></th>\n      <th>MORTGAGE_ID</th>\n      <th>PROPERTY_ID</th>\n      <th>APPLICATIONID</th>\n      <th>LENDER</th>\n      <th>ORIGINALMORTGAGEAMOUNT</th>\n      <th>PAYMENT</th>\n      <th>PAYMENTFREQUENCY</th>\n      <th>PAYOFF</th>\n      <th>PAYOFFTYPE</th>\n      <th>RATE</th>\n      <th>REMAININGAMOUNT</th>\n      <th>RENEWAL</th>\n      <th>MORTGAGE_TERM</th>\n      <th>MORTGAGE_TYPE</th>\n      <th>FILE_CREATION_TIMESTAMP</th>\n      <th>REC_CREATED_TS</th>\n      <th>REC_UPDATED_TS</th>\n    </tr>\n  </thead>\n  <tbody>\n    <tr>\n      <th>0</th>\n      <td>6d41cd44-06df-4b02-9169-b1a92dc789db</td>\n      <td>06deaf2c-2ee9-42bd-91c2-cb9927b04785</td>\n      <td>59133cd9-58f9-4d19-bd9f-52e95bba3310</td>\n      <td>RBC</td>\n      <td>NaN</td>\n      <td>NaN</td>\n      <td>NaN</td>\n      <td>True</td>\n      <td>from_proceeds</td>\n      <td>NaN</td>\n      <td>402000.0</td>\n      <td>NaN</td>\n      <td>NaN</td>\n      <td>NaN</td>\n      <td>2024-02-29T17:49:30Z</td>\n      <td>2024-02-29T10:01:24.013-08:00</td>\n      <td>2024-02-29T10:01:24.013-08:00</td>\n    </tr>\n    <tr>\n      <th>1</th>\n      <td>406e111c-14da-4e3c-8d4d-6dee994df37d</td>\n      <td>97c02c7d-cbee-4a44-b7e8-55c6359dbc8f</td>\n      <td>c572fccd-e1ea-4592-9d54-5a1c87e435e4</td>\n      <td>ATB - HELOC</td>\n      <td>380000.0</td>\n      <td>1637.0</td>\n      <td>monthly</td>\n      <td>True</td>\n      <td>from_proceeds</td>\n      <td>7.70</td>\n      <td>220000.0</td>\n      <td>NaN</td>\n      <td>other</td>\n      <td>variable</td>\n      <td>2024-02-29T17:54:19Z</td>\n      <td>2024-02-29T10:01:24.013-08:00</td>\n      <td>2024-02-29T10:01:24.013-08:00</td>\n    </tr>\n    <tr>\n      <th>2</th>\n      <td>a097f687-f782-41e2-a9e1-47dd0faef1fd</td>\n      <td>20bf0813-49b6-437b-a4eb-fffde79b8ed9</td>\n      <td>3de1c9cd-4380-4b81-87cf-dd2df0432988</td>\n      <td>MCAP</td>\n      <td>NaN</td>\n      <td>900.0</td>\n      <td>semi-weekly</td>\n      <td>True</td>\n      <td>from_proceeds</td>\n      <td>2.99</td>\n      <td>325000.0</td>\n      <td>2024-05-12</td>\n      <td>5</td>\n      <td>fixed</td>\n      <td>2024-02-29T16:51:03Z</td>\n      <td>2024-02-29T09:03:40.273-08:00</td>\n      <td>2024-02-29T09:03:40.273-08:00</td>\n    </tr>\n  </tbody>\n</table>\n</div>"
          },
          "metadata": {}
        }
      ],
      "execution_count": 36
    },
    {
      "cell_type": "code",
      "source": "# drop the MORTGAGE_ID ,PROPERTY_ID column",
      "metadata": {
        "trusted": true
      },
      "outputs": [],
      "execution_count": null
    },
    {
      "cell_type": "code",
      "source": "df_mrge.shape",
      "metadata": {
        "trusted": true
      },
      "outputs": [
        {
          "execution_count": 40,
          "output_type": "execute_result",
          "data": {
            "text/plain": "(28214, 17)"
          },
          "metadata": {}
        }
      ],
      "execution_count": 40
    },
    {
      "cell_type": "code",
      "source": "df_mrge.isnull().sum()",
      "metadata": {
        "trusted": true,
        "scrolled": true
      },
      "outputs": [
        {
          "execution_count": 38,
          "output_type": "execute_result",
          "data": {
            "text/plain": "MORTGAGE_ID                    0\nPROPERTY_ID                    0\nAPPLICATIONID                  0\nLENDER                      3178\nORIGINALMORTGAGEAMOUNT     20377\nPAYMENT                     3551\nPAYMENTFREQUENCY            2676\nPAYOFF                         0\nPAYOFFTYPE                  7994\nRATE                        6556\nREMAININGAMOUNT              972\nRENEWAL                     8296\nMORTGAGE_TERM               4437\nMORTGAGE_TYPE               3928\nFILE_CREATION_TIMESTAMP        0\nREC_CREATED_TS               119\nREC_UPDATED_TS                 0\ndtype: int64"
          },
          "metadata": {}
        }
      ],
      "execution_count": 38
    },
    {
      "cell_type": "code",
      "source": "df_mrge.duplicated().sum()",
      "metadata": {
        "trusted": true
      },
      "outputs": [
        {
          "execution_count": 39,
          "output_type": "execute_result",
          "data": {
            "text/plain": "0"
          },
          "metadata": {}
        }
      ],
      "execution_count": 39
    },
    {
      "cell_type": "code",
      "source": "# drop the null value rows\ndf_mrge['LENDER'].value_counts()",
      "metadata": {
        "trusted": true
      },
      "outputs": [
        {
          "execution_count": 122,
          "output_type": "execute_result",
          "data": {
            "text/plain": "RBC                          2874\nTD                           2030\nCIBC                         2010\nScotiabank                   1300\nBMO                           998\n                             ... \nNational Trust                  1\nSomething out West              1\nCaisse Pop. - Desjardains       1\nCoastal Community               1\nCIBC + HELOC #009102446         1\nName: LENDER, Length: 4121, dtype: int64"
          },
          "metadata": {}
        }
      ],
      "execution_count": 122
    },
    {
      "cell_type": "code",
      "source": "# using the mean \ndf_mrge['ORIGINALMORTGAGEAMOUNT'].mean()",
      "metadata": {
        "trusted": true
      },
      "outputs": [
        {
          "execution_count": 124,
          "output_type": "execute_result",
          "data": {
            "text/plain": "348883.42070052313"
          },
          "metadata": {}
        }
      ],
      "execution_count": 124
    },
    {
      "cell_type": "code",
      "source": "# using the mean\ndf_mrge['PAYMENT'].mean()",
      "metadata": {
        "trusted": true
      },
      "outputs": [
        {
          "execution_count": 126,
          "output_type": "execute_result",
          "data": {
            "text/plain": "1925.8840437092001"
          },
          "metadata": {}
        }
      ],
      "execution_count": 126
    },
    {
      "cell_type": "code",
      "source": "# drop the null value rows\ndf_mrge['PAYMENTFREQUENCY'].value_counts()",
      "metadata": {
        "trusted": true
      },
      "outputs": [
        {
          "execution_count": 128,
          "output_type": "execute_result",
          "data": {
            "text/plain": "monthly                  17870\nsemi-weekly               5106\nweekly                    1193\naccelerated_bi-weekly      667\nsemi-monthly               530\naccelerated_weekly         172\nName: PAYMENTFREQUENCY, dtype: int64"
          },
          "metadata": {}
        }
      ],
      "execution_count": 128
    },
    {
      "cell_type": "code",
      "source": "# using the mode \ndf_mrge['PAYOFFTYPE'].value_counts()",
      "metadata": {
        "trusted": true
      },
      "outputs": [
        {
          "execution_count": 129,
          "output_type": "execute_result",
          "data": {
            "text/plain": "from_proceeds       19232\nprior_to_advance      987\nnone                    1\nName: PAYOFFTYPE, dtype: int64"
          },
          "metadata": {}
        }
      ],
      "execution_count": 129
    },
    {
      "cell_type": "code",
      "source": "# using the mean\ndf_mrge['RATE'].mean()",
      "metadata": {
        "trusted": true
      },
      "outputs": [
        {
          "execution_count": 131,
          "output_type": "execute_result",
          "data": {
            "text/plain": "4.153252839597378"
          },
          "metadata": {}
        }
      ],
      "execution_count": 131
    },
    {
      "cell_type": "code",
      "source": "# using the mean\ndf_mrge['REMAININGAMOUNT'].mean()",
      "metadata": {
        "trusted": true
      },
      "outputs": [
        {
          "execution_count": 132,
          "output_type": "execute_result",
          "data": {
            "text/plain": "314042.97788671905"
          },
          "metadata": {}
        }
      ],
      "execution_count": 132
    },
    {
      "cell_type": "code",
      "source": "# using the date time to substitute \ndf_mrge['RENEWAL'].value_counts()",
      "metadata": {
        "trusted": true
      },
      "outputs": [
        {
          "execution_count": 134,
          "output_type": "execute_result",
          "data": {
            "text/plain": "2025-01-01    412\n2026-01-01    385\n2024-01-01    350\n2023-01-01    322\n2023-06-01    281\n             ... \n2030-05-01      1\n2027-11-22      1\n2027-02-05      1\n2021-12-23      1\n2028-03-09      1\nName: RENEWAL, Length: 2244, dtype: int64"
          },
          "metadata": {}
        }
      ],
      "execution_count": 134
    },
    {
      "cell_type": "code",
      "source": "# using the mode \ndf_mrge['MORTGAGE_TERM'].value_counts()",
      "metadata": {
        "trusted": true
      },
      "outputs": [
        {
          "execution_count": 135,
          "output_type": "execute_result",
          "data": {
            "text/plain": "5        16425\n1         2482\n3         1439\nother     1233\n4          890\n2          883\n0.5        288\n10         137\nName: MORTGAGE_TERM, dtype: int64"
          },
          "metadata": {}
        }
      ],
      "execution_count": 135
    },
    {
      "cell_type": "code",
      "source": "# using the mode \ndf_mrge['MORTGAGE_TYPE'].value_counts()",
      "metadata": {
        "trusted": true
      },
      "outputs": [
        {
          "execution_count": 136,
          "output_type": "execute_result",
          "data": {
            "text/plain": "fixed       18631\nvariable     5655\nName: MORTGAGE_TYPE, dtype: int64"
          },
          "metadata": {}
        }
      ],
      "execution_count": 136
    },
    {
      "cell_type": "code",
      "source": "# using date time to substitute \ndf_mrge['REC_CREATED_TS'].value_counts()",
      "metadata": {
        "trusted": true
      },
      "outputs": [
        {
          "execution_count": 137,
          "output_type": "execute_result",
          "data": {
            "text/plain": "2023-11-06T06:46:32.697-08:00    25713\n2024-01-24T00:01:06.601-08:00       29\n2023-12-20T00:00:56.207-08:00       25\n2023-11-29T00:00:57.354-08:00       23\n2023-11-22T00:01:01.756-08:00       20\n                                 ...  \n2024-01-27T10:03:35.229-08:00        1\n2024-02-05T16:01:04.6-08:00          1\n2024-01-26T11:00:57.392-08:00        1\n2024-02-13T16:01:09.84-08:00         1\n2024-02-25T10:01:25.793-08:00        1\nName: REC_CREATED_TS, Length: 637, dtype: int64"
          },
          "metadata": {}
        }
      ],
      "execution_count": 137
    },
    {
      "cell_type": "code",
      "source": "",
      "metadata": {
        "trusted": true
      },
      "outputs": [],
      "execution_count": null
    }
  ]
}